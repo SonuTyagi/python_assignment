{
 "cells": [
  {
   "cell_type": "markdown",
   "id": "ffe37474-96bf-495b-8bd8-3a1826aa06ba",
   "metadata": {},
   "source": [
    "1.\tWrite a Python program to print \"Hello Python\"?"
   ]
  },
  {
   "cell_type": "code",
   "execution_count": 2,
   "id": "ac27530b-1b5c-4773-9eb0-8160187a2137",
   "metadata": {},
   "outputs": [
    {
     "name": "stdout",
     "output_type": "stream",
     "text": [
      "Hello python\n"
     ]
    }
   ],
   "source": [
    "print('Hello python')"
   ]
  },
  {
   "cell_type": "markdown",
   "id": "ba26060b-c0c7-48b9-9150-f23812e03a95",
   "metadata": {},
   "source": [
    "2.\tWrite a Python program to do arithmetical operations addition and division.?"
   ]
  },
  {
   "cell_type": "code",
   "execution_count": 4,
   "id": "e350081e-a766-4d0f-8961-06c2c55270fe",
   "metadata": {},
   "outputs": [
    {
     "name": "stdin",
     "output_type": "stream",
     "text": [
      "choose the operation  1.addition or  2.division 1\n"
     ]
    },
    {
     "name": "stdout",
     "output_type": "stream",
     "text": [
      "Adition of 21 and 7: 28\n"
     ]
    }
   ],
   "source": [
    "oper=int(input('choose the operation  1.addition or  2.division'))\n",
    "a=21\n",
    "b=7\n",
    "if oper==1:\n",
    "    c=a+b\n",
    "    print(f\"Adition of {a} and {b}:\",c)\n",
    "elif oper==2:\n",
    "    c=a/b\n",
    "    print(f\"Division of {a} and {b}:\",c)\n",
    "else:\n",
    "    print(\"Invalide choice\")"
   ]
  },
  {
   "cell_type": "markdown",
   "id": "d28c4990-c456-45e8-a547-bdc0e9b664d0",
   "metadata": {},
   "source": [
    "3.\tWrite a Python program to find the area of a triangle?"
   ]
  },
  {
   "cell_type": "code",
   "execution_count": 6,
   "id": "26c1a45d-f456-4ae6-860c-f11ffa95dba5",
   "metadata": {},
   "outputs": [
    {
     "name": "stdin",
     "output_type": "stream",
     "text": [
      "Enter the base of Triangle in cm: 4\n",
      "Enter the height of Triangle in cm: 3\n"
     ]
    },
    {
     "name": "stdout",
     "output_type": "stream",
     "text": [
      "The are of the triangle is 6.0 cm sqre\n"
     ]
    }
   ],
   "source": [
    "#A = 1/2 × b × h\n",
    "base=int(input(\"Enter the base of Triangle in cm:\"))\n",
    "height=int(input(\"Enter the height of Triangle in cm:\"))\n",
    "area=0.5*base*height\n",
    "print(\"The are of the triangle is {} cm sqre\".format(area))"
   ]
  },
  {
   "cell_type": "markdown",
   "id": "d99974f3-c1cb-4261-b722-05a4a80e0e26",
   "metadata": {},
   "source": [
    "4.\tWrite a Python program to swap two variables?"
   ]
  },
  {
   "cell_type": "code",
   "execution_count": 8,
   "id": "67be2ab7-6b4f-4833-89c9-15fef23dc00d",
   "metadata": {},
   "outputs": [
    {
     "name": "stdout",
     "output_type": "stream",
     "text": [
      "A:2,B:1\n"
     ]
    }
   ],
   "source": [
    "#A=1,B=2\n",
    "a,b=1,2\n",
    "#code to swap to number\n",
    "c=a\n",
    "a=b\n",
    "b=c\n",
    "print(\"A:{},B:{}\".format(a,b))\n",
    "\n"
   ]
  },
  {
   "cell_type": "markdown",
   "id": "aabae2c0-1598-4cad-931e-9af74d0dacdb",
   "metadata": {},
   "source": [
    "5.\tWrite a Python program to generate a random number"
   ]
  },
  {
   "cell_type": "code",
   "execution_count": 19,
   "id": "26a2e94c-de0e-4cf0-be6c-5b55bedd0566",
   "metadata": {},
   "outputs": [
    {
     "data": {
      "text/plain": [
       "10"
      ]
     },
     "execution_count": 19,
     "metadata": {},
     "output_type": "execute_result"
    }
   ],
   "source": [
    "import random\n",
    "random.randint(1,10)  "
   ]
  }
 ],
 "metadata": {
  "kernelspec": {
   "display_name": "Python 3 (ipykernel)",
   "language": "python",
   "name": "python3"
  },
  "language_info": {
   "codemirror_mode": {
    "name": "ipython",
    "version": 3
   },
   "file_extension": ".py",
   "mimetype": "text/x-python",
   "name": "python",
   "nbconvert_exporter": "python",
   "pygments_lexer": "ipython3",
   "version": "3.11.4"
  }
 },
 "nbformat": 4,
 "nbformat_minor": 5
}
