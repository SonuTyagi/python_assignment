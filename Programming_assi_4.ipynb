{
  "nbformat": 4,
  "nbformat_minor": 0,
  "metadata": {
    "colab": {
      "provenance": [],
      "gpuType": "V28"
    },
    "kernelspec": {
      "name": "python3",
      "display_name": "Python 3"
    },
    "language_info": {
      "name": "python"
    },
    "accelerator": "TPU"
  },
  "cells": [
    {
      "cell_type": "markdown",
      "source": [
        "#Programming_Assingment4"
      ],
      "metadata": {
        "id": "qUBI8ccven35"
      }
    },
    {
      "cell_type": "markdown",
      "source": [
        "Ques(1)\tWrite a Python Program to Find the Factorial of a Number?"
      ],
      "metadata": {
        "id": "-QZx2jWKe5C8"
      }
    },
    {
      "cell_type": "code",
      "source": [
        "#way 1: using while loop\n",
        "def factor1(n):\n",
        "  temp=1\n",
        "  if n<0:\n",
        "    print(\"Factorial of this number is not exist\")\n",
        "  elif n==1:\n",
        "    print(\"Factorial of 1 is 1\")\n",
        "  else:\n",
        "    while(n>1):\n",
        "      temp*=n\n",
        "      print(n,\"*\",end=\"\",sep=\"\")\n",
        "      n-=1\n",
        "    return print(\"1=\",temp,sep=\"\")\n",
        "\n",
        "\n",
        "#way 2: Using for loop\n",
        "def factor2(n):\n",
        "  temp=1\n",
        "  if n<0:\n",
        "    print(\"Factorial of this number is not exist\")\n",
        "  elif n==1:\n",
        "    print(\"Factorial of 1 is 1\")\n",
        "  else:\n",
        "    for i in range(n,1,-1):\n",
        "      temp*=i\n",
        "      print(i,\"*\",sep=\"\",end=\"\")\n",
        "    print(\"1=\",temp,sep=\"\")\n",
        "\n",
        "\n",
        "#way3: Using Recursion\n",
        "def factor3(n):\n",
        "  if n==0 or n==1:\n",
        "    return 1\n",
        "\n",
        "  else:\n",
        "    return n * factor3(n-1)\n",
        "\n",
        "\n",
        "factor1(5)\n",
        "factor2(5)\n",
        "factor3(5)"
      ],
      "metadata": {
        "id": "XuysQAB5jkZm",
        "colab": {
          "base_uri": "https://localhost:8080/"
        },
        "outputId": "a1db65dd-0eec-490c-8807-6fdda73dbb6c"
      },
      "execution_count": null,
      "outputs": [
        {
          "output_type": "stream",
          "name": "stdout",
          "text": [
            "5*4*3*2*1=120\n",
            "5*4*3*2*1=120\n"
          ]
        },
        {
          "output_type": "execute_result",
          "data": {
            "text/plain": [
              "120"
            ]
          },
          "metadata": {},
          "execution_count": 28
        }
      ]
    },
    {
      "cell_type": "markdown",
      "source": [
        "ques(2)\tWrite a Python Program to Display the multiplication Table?"
      ],
      "metadata": {
        "id": "jUZ9EGxzprPI"
      }
    },
    {
      "cell_type": "code",
      "source": [
        "n=int(input(\"Enter any number\"))\n",
        "for i in range(1,11):\n",
        "  print(f\"{n} * {i} = {n*i}\")"
      ],
      "metadata": {
        "colab": {
          "base_uri": "https://localhost:8080/"
        },
        "id": "hs81rc4bhCsf",
        "outputId": "21a036bf-a317-4195-b27b-b497a90394a4"
      },
      "execution_count": null,
      "outputs": [
        {
          "output_type": "stream",
          "name": "stdout",
          "text": [
            "Enter any number5\n",
            "5 * 1 = 5\n",
            "5 * 2 = 10\n",
            "5 * 3 = 15\n",
            "5 * 4 = 20\n",
            "5 * 5 = 25\n",
            "5 * 6 = 30\n",
            "5 * 7 = 35\n",
            "5 * 8 = 40\n",
            "5 * 9 = 45\n",
            "5 * 10 = 50\n"
          ]
        }
      ]
    },
    {
      "cell_type": "markdown",
      "source": [
        "Ques(3)\tWrite a Python Program to Print the Fibonacci sequence?"
      ],
      "metadata": {
        "id": "EAi-105nq7nk"
      }
    },
    {
      "cell_type": "code",
      "source": [
        "def fibseq(n):\n",
        "  a,b=0,1\n",
        "  if n==0 or n<0:\n",
        "    print(\"Invalid\")\n",
        "  elif n==1:\n",
        "    print(\"0\")\n",
        "  else:\n",
        "    print(a,b,end=\" \")\n",
        "    for i in range(2,n):\n",
        "      c=a+b\n",
        "      print(c,end=\" \")\n",
        "      a=b\n",
        "      b=c\n",
        "\n",
        "fibseq(11)\n"
      ],
      "metadata": {
        "id": "aTGTCYYmqdj_",
        "colab": {
          "base_uri": "https://localhost:8080/"
        },
        "outputId": "7dcc84f1-5db1-4f13-a3d5-90bea7cbdd8d"
      },
      "execution_count": null,
      "outputs": [
        {
          "output_type": "stream",
          "name": "stdout",
          "text": [
            "0 1 1 2 3 5 8 13 21 34 55 "
          ]
        }
      ]
    },
    {
      "cell_type": "markdown",
      "source": [
        "Ques(4)\tWrite a Python Program to Check Armstrong Number?\n"
      ],
      "metadata": {
        "id": "Ebo53jeJVbDb"
      }
    },
    {
      "cell_type": "code",
      "source": [
        "def armst(n):\n",
        "  tem=n\n",
        "  p=len(str(n))\n",
        "  sum=0\n",
        "  while(tem>0):\n",
        "    digit=tem%10\n",
        "    sum+=digit**p\n",
        "    tem//=10\n",
        "  if sum==n:\n",
        "    print(f\"The number {n} is an armstrong number\")\n",
        "  else:\n",
        "    print(f\"The number {n} is not armstrong number\")\n",
        "\n",
        "\n",
        "#2nd way : Using for loop\n",
        "def arm(num):\n",
        "  s=str(num)\n",
        "  p=len(s)\n",
        "  tem=0\n",
        "  for i in s:\n",
        "    tem+=int(i)**p\n",
        "  if tem==num:\n",
        "    print(f\"The number {num} is an armstrong number\")\n",
        "  else:\n",
        "    print(f\"The number {num} is not armstrong number\")\n",
        "\n",
        "\n",
        "arm(153)"
      ],
      "metadata": {
        "colab": {
          "base_uri": "https://localhost:8080/"
        },
        "id": "VDyEWY9nWpFG",
        "outputId": "1e166231-381b-49f4-d399-11b693609fbe"
      },
      "execution_count": null,
      "outputs": [
        {
          "output_type": "stream",
          "name": "stdout",
          "text": [
            "The number 153 is an armstrong number\n"
          ]
        }
      ]
    },
    {
      "cell_type": "markdown",
      "source": [
        "Ques(5)\tWrite a Python Program to Find Armstrong Number in an Interval?"
      ],
      "metadata": {
        "id": "i12gQyNYcS3n"
      }
    },
    {
      "cell_type": "code",
      "source": [
        "# function to check armstrong numner\n",
        "def isarmst(num):\n",
        "  dig=[int(d) for d in str(num)]\n",
        "  p=len(str(num))\n",
        "  total=sum(d**p for d in dig)\n",
        "  return total==num\n",
        "\n",
        "#function to return armstrong number in an interval\n",
        "def armstrong(start,end):\n",
        "  l=[]\n",
        "  for i in range(start,end+1):\n",
        "    if isarmst(i):\n",
        "      l.append(i)\n",
        "  return l\n",
        "\n",
        "\n",
        "\n",
        "armstrong(1,1000)"
      ],
      "metadata": {
        "id": "yp_nnlvuajxv",
        "colab": {
          "base_uri": "https://localhost:8080/"
        },
        "outputId": "23c4fe12-ddcd-4aed-d7d6-a09596e71ee0"
      },
      "execution_count": 10,
      "outputs": [
        {
          "output_type": "execute_result",
          "data": {
            "text/plain": [
              "[1, 2, 3, 4, 5, 6, 7, 8, 9, 153, 370, 371, 407]"
            ]
          },
          "metadata": {},
          "execution_count": 10
        }
      ]
    },
    {
      "cell_type": "markdown",
      "source": [
        "Ques(6)\tWrite a Python Program to Find the Sum of Natural Numbers?"
      ],
      "metadata": {
        "id": "RPExlJ1kZdsr"
      }
    },
    {
      "cell_type": "code",
      "source": [
        "num=int(input(\"Enter a positive number: \"))\n",
        "if num<=0:\n",
        "  print(\"Please enter a positive number\")\n",
        "else :\n",
        "  sum=0\n",
        "  while num>0:\n",
        "    sum+=num\n",
        "    num-=1\n",
        "  print(\"The sum of natural number is:\",sum)"
      ],
      "metadata": {
        "colab": {
          "base_uri": "https://localhost:8080/"
        },
        "id": "Q66ssk2iWquC",
        "outputId": "03790f99-3c33-4bbc-ea08-f4193edf1bcf"
      },
      "execution_count": 16,
      "outputs": [
        {
          "output_type": "stream",
          "name": "stdout",
          "text": [
            "Enter a positive number: 16\n",
            "The sum of natural number is: 136\n"
          ]
        }
      ]
    },
    {
      "cell_type": "code",
      "source": [
        "1"
      ],
      "metadata": {
        "id": "87c62ZSUcOTt"
      },
      "execution_count": null,
      "outputs": []
    }
  ]
}