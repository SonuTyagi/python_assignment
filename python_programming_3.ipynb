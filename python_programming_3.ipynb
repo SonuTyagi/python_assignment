{
  "nbformat": 4,
  "nbformat_minor": 0,
  "metadata": {
    "colab": {
      "provenance": [],
      "authorship_tag": "ABX9TyNl57gOg5Gbcnrj147ZeeRD",
      "include_colab_link": true
    },
    "kernelspec": {
      "name": "python3",
      "display_name": "Python 3"
    },
    "language_info": {
      "name": "python"
    }
  },
  "cells": [
    {
      "cell_type": "markdown",
      "metadata": {
        "id": "view-in-github",
        "colab_type": "text"
      },
      "source": [
        "<a href=\"https://colab.research.google.com/github/SonuTyagi/python_assignment/blob/main/python_programming_3.ipynb\" target=\"_parent\"><img src=\"https://colab.research.google.com/assets/colab-badge.svg\" alt=\"Open In Colab\"/></a>"
      ]
    },
    {
      "cell_type": "markdown",
      "source": [
        "\n",
        "2.\tWrite a Python Program to Display the multiplication Table?\n",
        "3.\tWrite a Python Program to Print the Fibonacci sequence?\n",
        "4.\tWrite a Python Program to Check Armstrong Number?\n",
        "5.\tWrite a Python Program to Find Armstrong Number in an Interval?\n",
        "6.\tWrite a Python Program to Find the Sum of Natural Numbers?\n"
      ],
      "metadata": {
        "id": "j7dpHMACdKzP"
      }
    },
    {
      "cell_type": "markdown",
      "source": [
        "Question(1). Write a Python Program to Find the Factorial of a Number?"
      ],
      "metadata": {
        "id": "QKLU7IiydQoA"
      }
    },
    {
      "cell_type": "code",
      "execution_count": 11,
      "metadata": {
        "colab": {
          "base_uri": "https://localhost:8080/"
        },
        "id": "ns-EaUf6c3eV",
        "outputId": "3dabf1d8-e804-46b3-eb59-3e2761913737"
      },
      "outputs": [
        {
          "output_type": "stream",
          "name": "stdout",
          "text": [
            "5*4*3*2*1=120\n"
          ]
        }
      ],
      "source": [
        "def findfactor(n):\n",
        "  f=n\n",
        "  while(f>1):\n",
        "    print(f,\"*\",end=\"\",sep=\"\")\n",
        "    f-=1\n",
        "  else:\n",
        "    print(\"1\",end=\"\")\n",
        "\n",
        "\n",
        "  factor=1\n",
        "  for i in range(1,n+1):\n",
        "    factor*=i\n",
        "  else:\n",
        "    print('=',factor,sep=\"\")\n",
        "\n",
        "\n",
        "\n",
        "findfactor(5)"
      ]
    },
    {
      "cell_type": "code",
      "source": [],
      "metadata": {
        "id": "hiZAwsTAePYB"
      },
      "execution_count": null,
      "outputs": []
    },
    {
      "cell_type": "code",
      "source": [],
      "metadata": {
        "id": "kFAm9iHDiQx3"
      },
      "execution_count": null,
      "outputs": []
    }
  ]
}